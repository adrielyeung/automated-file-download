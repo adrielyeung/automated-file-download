{
 "cells": [
  {
   "cell_type": "markdown",
   "metadata": {},
   "source": [
    "# File Download Automation\n",
    "This project aims to automate downloading of salary sheet from company intranet, using credentials as provided from config.\n",
    "\n",
    "We will use Selenium with Chrome web driver to achieve this."
   ]
  },
  {
   "cell_type": "code",
   "execution_count": 47,
   "metadata": {},
   "outputs": [],
   "source": [
    "from selenium import webdriver\n",
    "from selenium.webdriver.chrome.options import Options\n",
    "import pandas as pd\n",
    "import requests"
   ]
  },
  {
   "cell_type": "code",
   "execution_count": 48,
   "metadata": {},
   "outputs": [
    {
     "name": "stdout",
     "output_type": "stream",
     "text": [
      "Enter month: 10\n",
      "Enter year: 2020\n"
     ]
    }
   ],
   "source": [
    "month = input(\"Enter month: \")\n",
    "year = input(\"Enter year: \")"
   ]
  },
  {
   "cell_type": "code",
   "execution_count": 49,
   "metadata": {},
   "outputs": [],
   "source": [
    "download_path = \"<default_download_path>\"\n",
    "options = Options()\n",
    "options.headless = True\n",
    "options.add_argument(\"--window-size=1920,1200\")\n",
    "options.add_argument(\"--disable-notifications\")\n",
    "options.add_argument('--no-sandbox')\n",
    "options.add_argument('--verbose')\n",
    "options.add_experimental_option(\"prefs\", {\n",
    "        \"download.default_directory\": download_path,\n",
    "        \"download.prompt_for_download\": False, # To auto download the file\n",
    "        \"download.directory_upgrade\": True,\n",
    "        \"safebrowsing_for_trusted_sources_enabled\": False,\n",
    "        \"safebrowsing.enabled\": False,\n",
    "        \"plugins.always_open_pdf_externally\": True #It will not show PDF directly in chrome\n",
    "})\n",
    "options.add_argument('--disable-gpu')\n",
    "options.add_argument('--disable-software-rasterizer')\n",
    "\n",
    "\n",
    "DRIVER_PATH = '<driver_path>'\n",
    "# driver = webdriver.Chrome(executable_path=DRIVER_PATH)\n",
    "driver = webdriver.Chrome(options=options, executable_path=DRIVER_PATH)"
   ]
  },
  {
   "cell_type": "code",
   "execution_count": 50,
   "metadata": {},
   "outputs": [],
   "source": [
    "credentials = pd.read_csv('Credentials.csv')\n",
    "credentials.fillna(-999999, inplace=True)"
   ]
  },
  {
   "cell_type": "code",
   "execution_count": 51,
   "metadata": {},
   "outputs": [],
   "source": [
    "driver.get(credentials['URL'][0])"
   ]
  },
  {
   "cell_type": "code",
   "execution_count": 52,
   "metadata": {},
   "outputs": [],
   "source": [
    "driver.find_element_by_id('username').send_keys(credentials['Username'][0])\n",
    "driver.find_element_by_id('password').send_keys(credentials['Password'][0])\n",
    "driver.find_element_by_xpath('/html/body/form/table/tbody/tr[1]/td[2]/table/tbody/tr[3]/td[3]/div/input').click()"
   ]
  },
  {
   "cell_type": "markdown",
   "metadata": {},
   "source": [
    "Let's check for the logout button to see if we are logged in properly:"
   ]
  },
  {
   "cell_type": "code",
   "execution_count": 53,
   "metadata": {
    "scrolled": true
   },
   "outputs": [
    {
     "name": "stdout",
     "output_type": "stream",
     "text": [
      "Successfully logged in\n"
     ]
    }
   ],
   "source": [
    "from selenium.common.exceptions import NoSuchElementException  \n",
    "try:\n",
    "    title = driver.find_element_by_xpath(\"//*[ text() = 'Logout' ]\")\n",
    "    print('Successfully logged in')\n",
    "except NoSuchElementException:\n",
    "    print('Incorrect login/password')"
   ]
  },
  {
   "cell_type": "markdown",
   "metadata": {},
   "source": [
    "Great, we are logged on. Now let's navigate around the site by finding the buttons and clicking on them."
   ]
  },
  {
   "cell_type": "code",
   "execution_count": 54,
   "metadata": {},
   "outputs": [],
   "source": [
    "driver.find_element_by_xpath('/html/body/map/area[3]').click()\n",
    "driver.find_element_by_xpath('/html/body/table[1]/tbody/tr/td/table/tbody/tr[3]/td/table/tbody/tr/td/table[1]/tbody/tr[2]/td[1]/table/tbody/tr/td[2]/table/tbody/tr[2]/td/table/tbody/tr[1]/td/table[1]/tbody/tr[2]/td/table/tbody/tr/td/a/img').click()"
   ]
  },
  {
   "cell_type": "markdown",
   "metadata": {},
   "source": [
    "There is a dropdown list to select the month and year. We can simply select the element with the option and then click."
   ]
  },
  {
   "cell_type": "code",
   "execution_count": 55,
   "metadata": {},
   "outputs": [],
   "source": [
    "driver.find_element_by_xpath(\"//select[@name='year']/option[@value='\" + year + \"']\").click()\n",
    "driver.find_element_by_xpath(\"//select[@name='month']/option[@value='\" + month + \"']\").click()"
   ]
  },
  {
   "cell_type": "code",
   "execution_count": 56,
   "metadata": {},
   "outputs": [],
   "source": [
    "driver.find_element_by_xpath('/html/body/div/table[3]/tbody/tr[2]/td/form/table/tbody/tr/td[3]/div/img').click()"
   ]
  },
  {
   "cell_type": "markdown",
   "metadata": {},
   "source": [
    "## Logout\n",
    "During logout, there are 2 confirmation popup boxes. We need to use the ```switch_to``` function to control those popup."
   ]
  },
  {
   "cell_type": "code",
   "execution_count": 57,
   "metadata": {},
   "outputs": [],
   "source": [
    "driver.find_element_by_xpath('/html/body/div/table[4]/tbody/tr/td/table/tbody/tr/td[2]/div/a[2]').click()\n",
    "alert = driver.switch_to.alert\n",
    "# 2 popup to accept\n",
    "alert.accept()\n",
    "alert.accept()"
   ]
  },
  {
   "cell_type": "code",
   "execution_count": 46,
   "metadata": {},
   "outputs": [],
   "source": [
    "driver.quit()"
   ]
  },
  {
   "cell_type": "markdown",
   "metadata": {},
   "source": [
    "## Modify filename\n",
    "Selenium does not offer option to download a file to a specific file name. We have to use ```os``` and ```shutil``` packages to do that."
   ]
  },
  {
   "cell_type": "code",
   "execution_count": 60,
   "metadata": {
    "scrolled": true
   },
   "outputs": [],
   "source": [
    "import os\n",
    "import shutil\n",
    "# Get latest downloaded file\n",
    "filename = max([download_path + \"\\\\\" + f for f in os.listdir(download_path)],key=os.path.getctime)\n",
    "shutil.move(filename, os.path.join(download_path, year + r\"-\" + month + r\".pdf\"))"
   ]
  },
  {
   "cell_type": "code",
   "execution_count": null,
   "metadata": {},
   "outputs": [],
   "source": []
  }
 ],
 "metadata": {
  "kernelspec": {
   "display_name": "Python 3",
   "language": "python",
   "name": "python3"
  },
  "language_info": {
   "codemirror_mode": {
    "name": "ipython",
    "version": 3
   },
   "file_extension": ".py",
   "mimetype": "text/x-python",
   "name": "python",
   "nbconvert_exporter": "python",
   "pygments_lexer": "ipython3",
   "version": "3.8.3"
  }
 },
 "nbformat": 4,
 "nbformat_minor": 4
}
